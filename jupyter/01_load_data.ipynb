{
 "cells": [
  {
   "cell_type": "markdown",
   "id": "6641d0cb",
   "metadata": {},
   "source": [
    "# Load data to InfluxDB\n",
    "\n",
    "InfluxDB is a non relational data base specific for time series data sets. It has meany features, one is that can handle SQL like queries.\n",
    "\n",
    "Here are shown the key steps to load the data una array of jsons to a measurement or **table** in InfluxDB"
   ]
  },
  {
   "cell_type": "code",
   "execution_count": 1,
   "id": "2785678f",
   "metadata": {},
   "outputs": [],
   "source": [
    "# Dependencies\n",
    "import json\n",
    "from influxdb import InfluxDBClient"
   ]
  },
  {
   "cell_type": "markdown",
   "id": "b4db798e",
   "metadata": {},
   "source": [
    "Now we perform the actual connection to the db"
   ]
  },
  {
   "cell_type": "code",
   "execution_count": 2,
   "id": "a18bf236",
   "metadata": {},
   "outputs": [
    {
     "data": {
      "text/plain": [
       "[{'name': '_internal'}, {'name': 'db1'}, {'name': 'starklink_db'}]"
      ]
     },
     "metadata": {},
     "output_type": "display_data"
    }
   ],
   "source": [
    "client = InfluxDBClient(\n",
    "    'influxdb',\n",
    "    8086,\n",
    "    'admin',\n",
    "    'password',\n",
    "    'db1')\n",
    "client.create_database('starklink_db')\n",
    "display(client.get_list_database())\n",
    "client.switch_database('starklink_db')"
   ]
  },
  {
   "cell_type": "markdown",
   "id": "e73146bc",
   "metadata": {},
   "source": [
    "Now we load the json file and setup the payload structure to be load into this Influxdb."
   ]
  },
  {
   "cell_type": "code",
   "execution_count": 4,
   "id": "f3d27b81",
   "metadata": {},
   "outputs": [],
   "source": [
    "starklink_datafile = 'starlink_historical_data.json'\n",
    "\n",
    "with open(starklink_datafile, 'r') as data_file:\n",
    "    json_data = data_file.read()\n",
    "\n",
    "starklink_data = json.loads(json_data)\n",
    "\n",
    "payload = [\n",
    "        {\n",
    "        'measurement': 'sat_pos_' + data['id'],\n",
    "        'time': data['spaceTrack']['CREATION_DATE'],\n",
    "        'fields': {\n",
    "            'latitude': data['latitude'],\n",
    "            'longitude': data['longitude']}\n",
    "        }\n",
    "    for data in starklink_data ]\n"
   ]
  },
  {
   "cell_type": "markdown",
   "id": "7be2c54a",
   "metadata": {},
   "source": [
    "As we can see here, the payload consist on a list of dictionaries, where the key fields on these dictionaries are\n",
    "\n",
    "    1. measurement: this is like the SQL DB where all the data will be allocated inside the DB.\n",
    "    2. time: this is a ISO8601 or similar datetime string\n",
    "    3. fields: points to a dict of the actual pair key-value of data stored\n",
    "  \n",
    "As an example\n"
   ]
  },
  {
   "cell_type": "code",
   "execution_count": 11,
   "id": "e005021c",
   "metadata": {},
   "outputs": [
    {
     "data": {
      "text/plain": [
       "{'measurement': 'sat_pos_5eed7714096e590006985671',\n",
       " 'time': '2021-01-26T14:26:10',\n",
       " 'fields': {'latitude': -46.26538641856343, 'longitude': 13}}"
      ]
     },
     "metadata": {},
     "output_type": "display_data"
    }
   ],
   "source": [
    "display(payload[100])"
   ]
  },
  {
   "cell_type": "markdown",
   "id": "f424fe41",
   "metadata": {},
   "source": [
    "Now with the payload constructed, we can do the actual write to the DB and then query for these measurements"
   ]
  },
  {
   "cell_type": "code",
   "execution_count": 6,
   "id": "699e12d8",
   "metadata": {},
   "outputs": [
    {
     "data": {
      "text/plain": [
       "True"
      ]
     },
     "execution_count": 6,
     "metadata": {},
     "output_type": "execute_result"
    }
   ],
   "source": [
    "client.write_points(payload)"
   ]
  },
  {
   "cell_type": "code",
   "execution_count": 12,
   "id": "53581ab1",
   "metadata": {},
   "outputs": [
    {
     "data": {
      "text/plain": [
       "ResultSet({'('sat_pos_5eed7714096e590006985671', None)': [{'time': '2021-01-21T06:26:10Z', 'latitude': 8.984105408081676, 'longitude': 136}, {'time': '2021-01-26T06:26:10Z', 'latitude': 8.984105408081676, 'longitude': 174}, {'time': '2021-01-26T14:26:10Z', 'latitude': -46.26538641856343, 'longitude': 13}]})"
      ]
     },
     "execution_count": 12,
     "metadata": {},
     "output_type": "execute_result"
    }
   ],
   "source": [
    "client.query('select * from sat_pos_5eed7714096e590006985671')"
   ]
  },
  {
   "cell_type": "code",
   "execution_count": null,
   "id": "f246330f",
   "metadata": {},
   "outputs": [],
   "source": []
  }
 ],
 "metadata": {
  "kernelspec": {
   "display_name": "Python 3 (ipykernel)",
   "language": "python",
   "name": "python3"
  },
  "language_info": {
   "codemirror_mode": {
    "name": "ipython",
    "version": 3
   },
   "file_extension": ".py",
   "mimetype": "text/x-python",
   "name": "python",
   "nbconvert_exporter": "python",
   "pygments_lexer": "ipython3",
   "version": "3.9.7"
  }
 },
 "nbformat": 4,
 "nbformat_minor": 5
}
