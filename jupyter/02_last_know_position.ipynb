{
 "cells": [
  {
   "cell_type": "markdown",
   "id": "1a76588e",
   "metadata": {},
   "source": [
    "# Last known position\n",
    "\n",
    "This notebook retrieves the last know position of each satallite_id by making a simple query to the DB."
   ]
  },
  {
   "cell_type": "code",
   "execution_count": 1,
   "id": "1b63ebf6",
   "metadata": {},
   "outputs": [],
   "source": [
    "from datetime import datetime\n",
    "import json\n",
    "\n",
    "from influxdb_client import InfluxDBClient"
   ]
  },
  {
   "cell_type": "code",
   "execution_count": 2,
   "id": "df555742",
   "metadata": {},
   "outputs": [],
   "source": [
    "url = \"http://influxdb:8086\"\n",
    "token = \"my-admin-token\"\n",
    "org = \"my-org\"\n",
    "bucket = \"my-bucket\"\n",
    "\n",
    "client = InfluxDBClient(url=url, token=token, org=org)"
   ]
  },
  {
   "cell_type": "markdown",
   "id": "c2c904d9",
   "metadata": {},
   "source": [
    "Now we load the json data and extract all the satelites id"
   ]
  },
  {
   "cell_type": "code",
   "execution_count": 3,
   "id": "4d6c4340",
   "metadata": {},
   "outputs": [],
   "source": [
    "starklink_datafile = 'starlink_historical_data.json'\n",
    "\n",
    "with open(starklink_datafile, 'r') as data_file:\n",
    "    json_data = data_file.read()\n",
    "\n",
    "starklink_data = json.loads(json_data)\n",
    "\n",
    "satellite_ids = {data['id'] for data in starklink_data}"
   ]
  },
  {
   "cell_type": "markdown",
   "id": "9334a510",
   "metadata": {},
   "source": [
    "Now we can easily select group and sort by time."
   ]
  },
  {
   "cell_type": "code",
   "execution_count": 4,
   "id": "4a95c31e",
   "metadata": {},
   "outputs": [
    {
     "data": {
      "text/html": [
       "<div>\n",
       "<style scoped>\n",
       "    .dataframe tbody tr th:only-of-type {\n",
       "        vertical-align: middle;\n",
       "    }\n",
       "\n",
       "    .dataframe tbody tr th {\n",
       "        vertical-align: top;\n",
       "    }\n",
       "\n",
       "    .dataframe thead th {\n",
       "        text-align: right;\n",
       "    }\n",
       "</style>\n",
       "<table border=\"1\" class=\"dataframe\">\n",
       "  <thead>\n",
       "    <tr style=\"text-align: right;\">\n",
       "      <th></th>\n",
       "      <th>result</th>\n",
       "      <th>table</th>\n",
       "      <th>_start</th>\n",
       "      <th>_stop</th>\n",
       "      <th>_time</th>\n",
       "      <th>_value</th>\n",
       "      <th>_field</th>\n",
       "      <th>_measurement</th>\n",
       "    </tr>\n",
       "  </thead>\n",
       "  <tbody>\n",
       "    <tr>\n",
       "      <th>0</th>\n",
       "      <td>_result</td>\n",
       "      <td>0</td>\n",
       "      <td>2019-01-20 09:35:24.374668+00:00</td>\n",
       "      <td>2022-01-20 03:35:24.374668+00:00</td>\n",
       "      <td>2021-01-26 13:26:11+00:00</td>\n",
       "      <td>-23.5382</td>\n",
       "      <td>lat</td>\n",
       "      <td>sat_pos_5eed7715096e590006985799</td>\n",
       "    </tr>\n",
       "    <tr>\n",
       "      <th>1</th>\n",
       "      <td>_result</td>\n",
       "      <td>1</td>\n",
       "      <td>2019-01-20 09:35:24.374668+00:00</td>\n",
       "      <td>2022-01-20 03:35:24.374668+00:00</td>\n",
       "      <td>2021-01-26 13:26:11+00:00</td>\n",
       "      <td>75.0000</td>\n",
       "      <td>lon</td>\n",
       "      <td>sat_pos_5eed7715096e590006985799</td>\n",
       "    </tr>\n",
       "  </tbody>\n",
       "</table>\n",
       "</div>"
      ],
      "text/plain": [
       "    result table                           _start  \\\n",
       "0  _result     0 2019-01-20 09:35:24.374668+00:00   \n",
       "1  _result     1 2019-01-20 09:35:24.374668+00:00   \n",
       "\n",
       "                             _stop                     _time   _value _field  \\\n",
       "0 2022-01-20 03:35:24.374668+00:00 2021-01-26 13:26:11+00:00 -23.5382    lat   \n",
       "1 2022-01-20 03:35:24.374668+00:00 2021-01-26 13:26:11+00:00  75.0000    lon   \n",
       "\n",
       "                       _measurement  \n",
       "0  sat_pos_5eed7715096e590006985799  \n",
       "1  sat_pos_5eed7715096e590006985799  "
      ]
     },
     "metadata": {},
     "output_type": "display_data"
    }
   ],
   "source": [
    "for satellite_id in satellite_ids:\n",
    "    \n",
    "    query_api = client.query_api()\n",
    "    df_result = query_api.query_data_frame(\n",
    "        f\"\"\"\n",
    "        from(bucket: \"my-bucket\")\n",
    "          |> range(start: -3y)\n",
    "          |> filter(fn: (r) => r[\"_measurement\"] == \"sat_pos_{satellite_id}\")\n",
    "          |> last()\n",
    "        \"\"\")\n",
    "    \n",
    "    display(df_result.head())\n",
    "    break\n",
    "    "
   ]
  },
  {
   "cell_type": "markdown",
   "id": "6c99fe27",
   "metadata": {},
   "source": [
    "# TODO: Create a module to simplify/wrap the flux query setups"
   ]
  },
  {
   "cell_type": "code",
   "execution_count": 5,
   "id": "c9064e52",
   "metadata": {},
   "outputs": [],
   "source": [
    "import json\n",
    "from influxdb import InfluxDBClient\n",
    "\n",
    "class SatelliteEngineException(Exception):\n",
    "    pass\n",
    "\n",
    "class SatelliteEngine():\n",
    "    \"\"\"Some nice doc string\"\"\"\n",
    "    def __init__(self, influxdb_dns, port, user, password, db_name, satellites_ids):\n",
    "        self.client = InfluxDBClient(\n",
    "        'influxdb',\n",
    "        8086,\n",
    "        'admin',\n",
    "        'password',\n",
    "        'db1')\n",
    "        \n",
    "        self.client.switch_database(db_name)\n",
    "        self.satellites_ids = satellites_ids\n",
    "\n",
    "        \n",
    "    \n",
    "    def upsert(self, payload):\n",
    "        \n",
    "        for load in payload:\n",
    "            keys = load.keys()\n",
    "            if not 'measurement' in keys:\n",
    "                raise SatelliteEngineException('aa')\n",
    "                \n",
    "        return self.client.write_points(payload)\n",
    "        \n",
    "        \n",
    "    def retrieve_last(self, n=1):\n",
    "        retrieved_data = []\n",
    "        for satellite_id in self.satellites_ids:\n",
    "            query = (f'SELECT satellite_id, latitude, longitude FROM sat_pos_{satellite_id}  ORDER BY time LIMIT {n}')\n",
    "            response = client.query(query)\n",
    "            retrieved_data.append(response.raw['series'][0]['values'][0])\n",
    "            \n",
    "        return retrieved_data\n",
    "            \n"
   ]
  },
  {
   "cell_type": "code",
   "execution_count": null,
   "id": "b899b5d0",
   "metadata": {},
   "outputs": [],
   "source": [
    "satellites_ids = [\n",
    "    '5eed7714096e59000698566b',\n",
    "    '5eed7716096e5900069857dd',\n",
    "    '5eed7714096e590006985684',\n",
    "    '5eed7715096e590006985767',\n",
    "    '5fa3109229f50d0006226d97',\n",
    "    '5eed7716096e5900069857e8',\n",
    "    '5eed7714096e590006985694',\n",
    "    '5eed7716096e5900069857e4',\n",
    "    '5f36cb59bd888300062740cb']\n",
    "\n",
    "satellite_engine = SatelliteEngine(\n",
    "    influxdb_dns= 'influxdb',\n",
    "    port=8086,\n",
    "    user='admin',\n",
    "    password='password',\n",
    "    db_name='starklink_db',\n",
    "    satellites_ids=satellites_ids)\n",
    "\n",
    "satellite_engine.retrieve_last()\n",
    "\n",
    "returned_longitudes = [row[2] for row in satellite_engine.retrieve_last() ]"
   ]
  },
  {
   "cell_type": "code",
   "execution_count": null,
   "id": "e729d1f3",
   "metadata": {},
   "outputs": [],
   "source": [
    "assert( len(returned_longitudes) == 9) "
   ]
  },
  {
   "cell_type": "code",
   "execution_count": null,
   "id": "aaab6e91",
   "metadata": {},
   "outputs": [],
   "source": []
  }
 ],
 "metadata": {
  "kernelspec": {
   "display_name": "Python 3 (ipykernel)",
   "language": "python",
   "name": "python3"
  },
  "language_info": {
   "codemirror_mode": {
    "name": "ipython",
    "version": 3
   },
   "file_extension": ".py",
   "mimetype": "text/x-python",
   "name": "python",
   "nbconvert_exporter": "python",
   "pygments_lexer": "ipython3",
   "version": "3.9.7"
  }
 },
 "nbformat": 4,
 "nbformat_minor": 5
}
