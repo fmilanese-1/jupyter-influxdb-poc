{
 "cells": [
  {
   "cell_type": "markdown",
   "id": "1fc2a3c3",
   "metadata": {},
   "source": [
    "# Challenge\n",
    "Here the idea is that given a certain time and position, choose the closest satellite."
   ]
  },
  {
   "cell_type": "code",
   "execution_count": 1,
   "id": "dd48808b",
   "metadata": {},
   "outputs": [],
   "source": [
    "# Dependencies\n",
    "from datetime import datetime\n",
    "import json\n",
    "import pandas as pd\n",
    "import numpy as np\n",
    "\n",
    "from influxdb_client import InfluxDBClient"
   ]
  },
  {
   "cell_type": "code",
   "execution_count": 2,
   "id": "770c9fed",
   "metadata": {},
   "outputs": [],
   "source": [
    "url = \"http://influxdb:8086\"\n",
    "token = \"my-admin-token\"\n",
    "org = \"my-org\"\n",
    "bucket = \"my-bucket\"\n",
    "\n",
    "client = InfluxDBClient(url=url, token=token, org=org)\n",
    "\n",
    "# Retrieve objective satellite ids\n",
    "starklink_datafile = 'starlink_historical_data.json'\n",
    "with open(starklink_datafile, 'r') as data_file:\n",
    "    json_data = data_file.read()\n",
    "starklink_data = json.loads(json_data)\n",
    "satellite_ids = {data['id'] for data in starklink_data}"
   ]
  },
  {
   "cell_type": "markdown",
   "id": "cb9b3780",
   "metadata": {},
   "source": [
    "Now, let us consider this time"
   ]
  },
  {
   "cell_type": "code",
   "execution_count": 3,
   "id": "123f5bcc",
   "metadata": {},
   "outputs": [],
   "source": [
    "datime_time = '2021-01-01T13:30:00Z'"
   ]
  },
  {
   "cell_type": "markdown",
   "id": "c324573a",
   "metadata": {},
   "source": [
    "Now we can get the closest satellite positions on time"
   ]
  },
  {
   "cell_type": "code",
   "execution_count": 4,
   "id": "78933a29",
   "metadata": {},
   "outputs": [
    {
     "data": {
      "text/html": [
       "<div>\n",
       "<style scoped>\n",
       "    .dataframe tbody tr th:only-of-type {\n",
       "        vertical-align: middle;\n",
       "    }\n",
       "\n",
       "    .dataframe tbody tr th {\n",
       "        vertical-align: top;\n",
       "    }\n",
       "\n",
       "    .dataframe thead th {\n",
       "        text-align: right;\n",
       "    }\n",
       "</style>\n",
       "<table border=\"1\" class=\"dataframe\">\n",
       "  <thead>\n",
       "    <tr style=\"text-align: right;\">\n",
       "      <th></th>\n",
       "      <th>satellite_id</th>\n",
       "      <th>latitude</th>\n",
       "      <th>longitude</th>\n",
       "    </tr>\n",
       "  </thead>\n",
       "  <tbody>\n",
       "    <tr>\n",
       "      <th>0</th>\n",
       "      <td>5eed7715096e590006985759</td>\n",
       "      <td>33.038027</td>\n",
       "      <td>5.0</td>\n",
       "    </tr>\n",
       "    <tr>\n",
       "      <th>1</th>\n",
       "      <td>5eed7714096e5900069856d1</td>\n",
       "      <td>-47.799738</td>\n",
       "      <td>21.0</td>\n",
       "    </tr>\n",
       "    <tr>\n",
       "      <th>2</th>\n",
       "      <td>5f5a9c1e2fd30c00065e5e8e</td>\n",
       "      <td>39.720494</td>\n",
       "      <td>177.0</td>\n",
       "    </tr>\n",
       "    <tr>\n",
       "      <th>3</th>\n",
       "      <td>5eed7714096e590006985658</td>\n",
       "      <td>-21.625599</td>\n",
       "      <td>102.0</td>\n",
       "    </tr>\n",
       "    <tr>\n",
       "      <th>4</th>\n",
       "      <td>5eed7716096e59000698580f</td>\n",
       "      <td>-15.072719</td>\n",
       "      <td>53.0</td>\n",
       "    </tr>\n",
       "    <tr>\n",
       "      <th>...</th>\n",
       "      <td>...</td>\n",
       "      <td>...</td>\n",
       "      <td>...</td>\n",
       "    </tr>\n",
       "    <tr>\n",
       "      <th>946</th>\n",
       "      <td>5fc7ec8ce4130000069e2c6c</td>\n",
       "      <td>31.265767</td>\n",
       "      <td>120.0</td>\n",
       "    </tr>\n",
       "    <tr>\n",
       "      <th>947</th>\n",
       "      <td>60106f1e0c72a20006004c0b</td>\n",
       "      <td>-0.433577</td>\n",
       "      <td>18.0</td>\n",
       "    </tr>\n",
       "    <tr>\n",
       "      <th>948</th>\n",
       "      <td>5fa31092c4fa370006feed0c</td>\n",
       "      <td>8.962893</td>\n",
       "      <td>89.0</td>\n",
       "    </tr>\n",
       "    <tr>\n",
       "      <th>949</th>\n",
       "      <td>5eed7716096e5900069857b7</td>\n",
       "      <td>17.192366</td>\n",
       "      <td>108.0</td>\n",
       "    </tr>\n",
       "    <tr>\n",
       "      <th>950</th>\n",
       "      <td>5f889669c86e27000615b2a8</td>\n",
       "      <td>-50.231513</td>\n",
       "      <td>106.0</td>\n",
       "    </tr>\n",
       "  </tbody>\n",
       "</table>\n",
       "<p>951 rows × 3 columns</p>\n",
       "</div>"
      ],
      "text/plain": [
       "                 satellite_id   latitude  longitude\n",
       "0    5eed7715096e590006985759  33.038027        5.0\n",
       "1    5eed7714096e5900069856d1 -47.799738       21.0\n",
       "2    5f5a9c1e2fd30c00065e5e8e  39.720494      177.0\n",
       "3    5eed7714096e590006985658 -21.625599      102.0\n",
       "4    5eed7716096e59000698580f -15.072719       53.0\n",
       "..                        ...        ...        ...\n",
       "946  5fc7ec8ce4130000069e2c6c  31.265767      120.0\n",
       "947  60106f1e0c72a20006004c0b  -0.433577       18.0\n",
       "948  5fa31092c4fa370006feed0c   8.962893       89.0\n",
       "949  5eed7716096e5900069857b7  17.192366      108.0\n",
       "950  5f889669c86e27000615b2a8 -50.231513      106.0\n",
       "\n",
       "[951 rows x 3 columns]"
      ]
     },
     "metadata": {},
     "output_type": "display_data"
    }
   ],
   "source": [
    "position_data = [['satellite_id', 'latitude', 'longitude']]\n",
    "\n",
    "for satellite_id in satellite_ids:\n",
    "    query = f\"\"\"\n",
    "        from(bucket: \"my-bucket\")\n",
    "          |> range(start: {datime_time})\n",
    "          |> filter(fn: (r) => r[\"_measurement\"] == \"sat_pos_{satellite_id}\")\n",
    "          |> first()\n",
    "        \"\"\"\n",
    "    query_api = client.query_api()\n",
    "    df_result = query_api.query_data_frame(query)\n",
    "    \n",
    "    if not df_result.empty:\n",
    "        lat_mask = df_result._field == 'lat'\n",
    "        lat = df_result.loc[lat_mask]._value.values[0]\n",
    "        lon_mask = df_result._field == 'lon'\n",
    "        lon = df_result.loc[lon_mask]._value.values[0]\n",
    "        \n",
    "        position_data.append([satellite_id, lat, lon])\n",
    "    \n",
    "position_data = pd.DataFrame(\n",
    "    position_data[1:], \n",
    "    columns = position_data[0])\n",
    "\n",
    "display(position_data)"
   ]
  },
  {
   "cell_type": "markdown",
   "id": "9e4b907d",
   "metadata": {},
   "source": [
    "The previous DataFrame contains the latitud longitud position of the time nearest points. To the **datime_time** variable. Now the next definition allows us to compute the latitud-longitude distance and it's minimum"
   ]
  },
  {
   "cell_type": "code",
   "execution_count": 5,
   "id": "f04f2a5c",
   "metadata": {},
   "outputs": [],
   "source": [
    "def haversine_vectorize(lon1, lat1, lon2, lat2):\n",
    "\n",
    "    lon1, lat1, lon2, lat2 = map(np.radians, [lon1, lat1, lon2, lat2])\n",
    "\n",
    "    newlon = lon2 - lon1\n",
    "    newlat = lat2 - lat1\n",
    "\n",
    "    haver_formula = np.sin(newlat/2.0)**2 + np.cos(lat1) * np.cos(lat2) * np.sin(newlon/2.0)**2\n",
    "\n",
    "    dist = 2 * np.arcsin(np.sqrt(haver_formula ))\n",
    "    km = 6367 * dist #6367 for distance in KM for miles use 3958\n",
    "    return km"
   ]
  },
  {
   "cell_type": "markdown",
   "id": "d5773147",
   "metadata": {},
   "source": [
    "An now let's consider this latitud longitude position"
   ]
  },
  {
   "cell_type": "code",
   "execution_count": 6,
   "id": "f4b32738",
   "metadata": {},
   "outputs": [],
   "source": [
    "position = {\n",
    "    'latitude': 1.77,\n",
    "    'longitude': 37.13}"
   ]
  },
  {
   "cell_type": "markdown",
   "id": "2ad9af19",
   "metadata": {},
   "source": [
    "So now, we can compute the closest"
   ]
  },
  {
   "cell_type": "code",
   "execution_count": 7,
   "id": "6a717706",
   "metadata": {},
   "outputs": [
    {
     "name": "stdout",
     "output_type": "stream",
     "text": [
      "The closest satellite is 5f889669c86e27000615b235\n",
      "It's position is satellite_id    5f889669c86e27000615b235\n",
      "latitude                        1.909076\n",
      "longitude                           39.0\n",
      "Name: 567, dtype: object\n"
     ]
    }
   ],
   "source": [
    "distances = haversine_vectorize(\n",
    "    position_data['latitude'],\n",
    "    position_data['longitude'],\n",
    "    position['latitude'],\n",
    "    position['longitude'])\n",
    "minimum_index = distances.idxmin()\n",
    "print(f\"The closest satellite is {position_data.loc[minimum_index, 'satellite_id']}\")\n",
    "print(f\"It's position is {position_data.loc[minimum_index, :]}\")"
   ]
  },
  {
   "cell_type": "code",
   "execution_count": null,
   "id": "39b70b71",
   "metadata": {},
   "outputs": [],
   "source": []
  }
 ],
 "metadata": {
  "kernelspec": {
   "display_name": "Python 3 (ipykernel)",
   "language": "python",
   "name": "python3"
  },
  "language_info": {
   "codemirror_mode": {
    "name": "ipython",
    "version": 3
   },
   "file_extension": ".py",
   "mimetype": "text/x-python",
   "name": "python",
   "nbconvert_exporter": "python",
   "pygments_lexer": "ipython3",
   "version": "3.9.7"
  }
 },
 "nbformat": 4,
 "nbformat_minor": 5
}
